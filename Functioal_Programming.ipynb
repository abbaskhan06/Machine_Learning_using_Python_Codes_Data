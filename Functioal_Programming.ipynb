{
 "cells": [
  {
   "cell_type": "code",
   "execution_count": 2,
   "id": "c56c9ac2",
   "metadata": {},
   "outputs": [],
   "source": [
    "# FUNCTIONAL PROGRAMMING\n",
    "\n",
    "#Creating a List\n",
    "intList = [1,2,3,4,5,6,7,8,9]\n"
   ]
  },
  {
   "cell_type": "code",
   "execution_count": 5,
   "id": "002f4ec3",
   "metadata": {},
   "outputs": [
    {
     "name": "stdout",
     "output_type": "stream",
     "text": [
      "[1, 4, 9, 16, 25, 36, 49, 64, 81]\n"
     ]
    }
   ],
   "source": [
    "# Create an Empty List\n",
    "squareList = []\n",
    "\n",
    "# Loop through the intList, square every item and append the result\n",
    "for x in intList:\n",
    "    squareList.append(pow(x,2))\n",
    "    \n",
    "print(squareList)\n"
   ]
  },
  {
   "cell_type": "code",
   "execution_count": 7,
   "id": "ec5ea829",
   "metadata": {},
   "outputs": [],
   "source": [
    "# Using a Defined Function inplace of this formula\n",
    "\n",
    "def squareMe (x):\n",
    "    return (x*x)"
   ]
  },
  {
   "cell_type": "code",
   "execution_count": 10,
   "id": "6e566654",
   "metadata": {},
   "outputs": [
    {
     "data": {
      "text/plain": [
       "[1, 4, 9, 16, 25, 36, 49, 64, 81]"
      ]
     },
     "execution_count": 10,
     "metadata": {},
     "output_type": "execute_result"
    }
   ],
   "source": [
    "squareList = map(squareMe, intList)\n",
    "\n",
    "#The Result is to be Printed as a List\n",
    "\n",
    "list(squareList)"
   ]
  },
  {
   "cell_type": "code",
   "execution_count": 12,
   "id": "90021903",
   "metadata": {},
   "outputs": [
    {
     "data": {
      "text/plain": [
       "[1, 4, 9, 16, 25, 36, 49, 64, 81]"
      ]
     },
     "execution_count": 12,
     "metadata": {},
     "output_type": "execute_result"
    }
   ],
   "source": [
    "# Now the squareMe function which we defined above can be written \n",
    "# as an anonymous function using the Lambda keyword\n",
    "\n",
    "squareList = map(lambda x: x*x, intList)\n",
    "\n",
    "#Printing this list again as a keyword\n",
    "\n",
    "list(squareList)"
   ]
  },
  {
   "cell_type": "code",
   "execution_count": 15,
   "id": "de2ad130",
   "metadata": {},
   "outputs": [
    {
     "data": {
      "text/plain": [
       "[2, 4, 6, 8]"
      ]
     },
     "execution_count": 15,
     "metadata": {},
     "output_type": "execute_result"
    }
   ],
   "source": [
    "# Applying Filters using Functional Programming \n",
    "# For Example - We can Select ONLY even numbers from intList - filtering numbers that are divisible by 2\n",
    "\n",
    "evenList = filter(lambda x: x%2==0, intList) ## REMEMBER THE FOLMULA == DIVISIBLE BY TWO x%2==0\n",
    "\n",
    "list(evenList)"
   ]
  },
  {
   "cell_type": "code",
   "execution_count": 17,
   "id": "90904260",
   "metadata": {},
   "outputs": [
    {
     "data": {
      "text/plain": [
       "4.0"
      ]
     },
     "execution_count": 17,
     "metadata": {},
     "output_type": "execute_result"
    }
   ],
   "source": [
    "# Modules and Packages \n",
    "# Module -- File that contains Classes, Valiables and Functions. And a set of Modules is called a Package\n",
    "# These modules can be imported to another module using the 'import' command \n",
    "\n",
    "# Importing Match command of Python \n",
    "\n",
    "import math\n",
    "\n",
    "# Taking square root of a value \n",
    "\n",
    "math.sqrt(16)\n"
   ]
  },
  {
   "cell_type": "code",
   "execution_count": 24,
   "id": "377edaf0",
   "metadata": {},
   "outputs": [
    {
     "data": {
      "text/plain": [
       "[6, 27, 9, 10, 14, 12, 3, 34, 32, 15]"
      ]
     },
     "execution_count": 24,
     "metadata": {},
     "output_type": "execute_result"
    }
   ],
   "source": [
    "# Also, using the from... import syntax a specific module, class or function can be imported from a package \n",
    "# For example importing the sample() function from the 'random' module \n",
    "\n",
    "from random import sample\n",
    "sample(range(0,40),10)"
   ]
  },
  {
   "cell_type": "code",
   "execution_count": 28,
   "id": "8578240b",
   "metadata": {},
   "outputs": [
    {
     "data": {
      "text/plain": [
       "[26, 10, 34, 39, 65, 62, 46, 41, 30, 1, 59, 56, 79, 66, 15, 29, 54, 86, 67, 87]"
      ]
     },
     "execution_count": 28,
     "metadata": {},
     "output_type": "execute_result"
    }
   ],
   "source": [
    "import random\n",
    "randomList = random.sample(range(0,100),20)\n",
    "randomList\n"
   ]
  },
  {
   "cell_type": "code",
   "execution_count": 37,
   "id": "70216c4f",
   "metadata": {},
   "outputs": [],
   "source": [
    "from statistics import mean, median\n",
    "def getMeanAndMedian(listNum):\n",
    "    return mean(listNum), median(listNum)"
   ]
  },
  {
   "cell_type": "code",
   "execution_count": 38,
   "id": "dc835fb2",
   "metadata": {},
   "outputs": [
    {
     "name": "stdout",
     "output_type": "stream",
     "text": [
      "Mean: 47.6 Median: 50.0\n"
     ]
    }
   ],
   "source": [
    "mean, median = getMeanAndMedian(randomList)\n",
    "print ('Mean:' ,mean, 'Median:',median)"
   ]
  },
  {
   "cell_type": "code",
   "execution_count": null,
   "id": "b6b241bf",
   "metadata": {},
   "outputs": [],
   "source": []
  }
 ],
 "metadata": {
  "kernelspec": {
   "display_name": "Python 3",
   "language": "python",
   "name": "python3"
  },
  "language_info": {
   "codemirror_mode": {
    "name": "ipython",
    "version": 3
   },
   "file_extension": ".py",
   "mimetype": "text/x-python",
   "name": "python",
   "nbconvert_exporter": "python",
   "pygments_lexer": "ipython3",
   "version": "3.8.8"
  }
 },
 "nbformat": 4,
 "nbformat_minor": 5
}
